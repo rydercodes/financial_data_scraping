{
 "cells": [
  {
   "cell_type": "code",
   "execution_count": 15,
   "metadata": {},
   "outputs": [
    {
     "name": "stdout",
     "output_type": "stream",
     "text": [
      "GOOGLE_APPLICATION_CREDENTIALS: /workspaces/financial_data_scraping/jaber-financial-b20f23e23588.json\n"
     ]
    }
   ],
   "source": [
    "import os\n",
    "\n",
    "# Set the environment variable for the Google Cloud credentials\n",
    "os.environ['GOOGLE_APPLICATION_CREDENTIALS'] = '/workspaces/financial_data_scraping/jaber-financial-b20f23e23588.json'\n",
    "\n",
    "# Verify that it has been set correctly\n",
    "print(\"GOOGLE_APPLICATION_CREDENTIALS:\", os.getenv('GOOGLE_APPLICATION_CREDENTIALS'))\n"
   ]
  },
  {
   "cell_type": "code",
   "execution_count": 16,
   "metadata": {},
   "outputs": [
    {
     "name": "stdout",
     "output_type": "stream",
     "text": [
      "Bucket 'companies_details' exists: True\n"
     ]
    }
   ],
   "source": [
    "from google.cloud import storage\n",
    "\n",
    "def test_gcs_access(bucket_name):\n",
    "    storage_client = storage.Client()\n",
    "    bucket = storage_client.bucket(bucket_name)\n",
    "    print(f\"Bucket '{bucket_name}' exists: {bucket.exists()}\")\n",
    "\n",
    "# Replace 'your-bucket-name' with your actual bucket name\n",
    "test_gcs_access('companies_details')"
   ]
  },
  {
   "cell_type": "code",
   "execution_count": 17,
   "metadata": {},
   "outputs": [],
   "source": [
    "from google.cloud import bigquery, storage\n",
    "\n",
    "# Initialize clients\n",
    "gcs_client = storage.Client()\n",
    "bq_client = bigquery.Client()"
   ]
  },
  {
   "cell_type": "markdown",
   "metadata": {},
   "source": [
    "### Load Comapnies"
   ]
  },
  {
   "cell_type": "code",
   "execution_count": 18,
   "metadata": {},
   "outputs": [
    {
     "name": "stdout",
     "output_type": "stream",
     "text": [
      "Loaded 70 rows into financial_data:companies_details.\n"
     ]
    }
   ],
   "source": [
    "# Define your parameters\n",
    "project_id = \"jaber-financial\"\n",
    "dataset_id = \"financial_data\"\n",
    "bucket_name = \"companies_details\"\n",
    "history_dir_prefix = \"data/\"\n",
    "\n",
    "def list_parquet_files(bucket_name, prefix):\n",
    "    \"\"\"List all parquet files in a specific GCS bucket and prefix.\"\"\"\n",
    "    bucket = gcs_client.bucket(bucket_name)\n",
    "    blobs = bucket.list_blobs(prefix=prefix)\n",
    "    return [blob.name for blob in blobs if blob.name.endswith('.parquet')]\n",
    "\n",
    "# Load all files from data/history/ directory into a single table named 'companies_details'\n",
    "companies_details_files = list_parquet_files(bucket_name, history_dir_prefix)\n",
    "\n",
    "companies_table_ref = bq_client.dataset(dataset_id).table(\"companies_details\")\n",
    "companies_job_config = bigquery.LoadJobConfig(\n",
    "    source_format=bigquery.SourceFormat.PARQUET,  # Parquet file format\n",
    "    autodetect=True\n",
    ")\n",
    "\n",
    "# Start the load job for history files\n",
    "load_job = bq_client.load_table_from_uri(\n",
    "    [f\"gs://{bucket_name}/{file}\" for file in companies_details_files],\n",
    "    companies_table_ref,\n",
    "    job_config=companies_job_config\n",
    ")\n",
    "\n",
    "# Wait for the job to complete\n",
    "load_job.result()\n",
    "\n",
    "# Check the result\n",
    "companies_details_table = bq_client.get_table(companies_table_ref)\n",
    "print(f\"Loaded {companies_details_table.num_rows} rows into {dataset_id}:companies_details.\")\n"
   ]
  },
  {
   "cell_type": "markdown",
   "metadata": {},
   "source": [
    "### Load Historical_data"
   ]
  },
  {
   "cell_type": "code",
   "execution_count": 19,
   "metadata": {},
   "outputs": [
    {
     "name": "stdout",
     "output_type": "stream",
     "text": [
      "Loaded 314049 rows into financial_data:historical_data_details.\n"
     ]
    }
   ],
   "source": [
    "# Define your parameters\n",
    "project_id = \"jaber-financial\"\n",
    "dataset_id = \"financial_data\"\n",
    "bucket_name = \"historical_data_details\"\n",
    "history_dir_prefix = \"data/history/\"\n",
    "\n",
    "def list_parquet_files(bucket_name, prefix):\n",
    "    \"\"\"List all parquet files in a specific GCS bucket and prefix.\"\"\"\n",
    "    bucket = gcs_client.bucket(bucket_name)\n",
    "    blobs = bucket.list_blobs(prefix=prefix)\n",
    "    return [blob.name for blob in blobs if blob.name.endswith('.parquet')]\n",
    "\n",
    "# Load all files from data/history/ directory into a single table named 'companies_details'\n",
    "historical_details_files = list_parquet_files(bucket_name, history_dir_prefix)\n",
    "\n",
    "history_table_ref = bq_client.dataset(dataset_id).table(\"historical_data_details\")\n",
    "historical_job_config = bigquery.LoadJobConfig(\n",
    "    source_format=bigquery.SourceFormat.PARQUET,  # Parquet file format\n",
    "    autodetect=True\n",
    ")\n",
    "\n",
    "# Start the load job for history files\n",
    "load_job = bq_client.load_table_from_uri(\n",
    "    [f\"gs://{bucket_name}/{file}\" for file in historical_details_files],\n",
    "    history_table_ref,\n",
    "    job_config=historical_job_config\n",
    ")\n",
    "\n",
    "# Wait for the job to complete\n",
    "load_job.result()\n",
    "\n",
    "# Check the result\n",
    "historical_details_table = bq_client.get_table(history_table_ref)\n",
    "print(f\"Loaded {historical_details_table.num_rows} rows into {dataset_id}:historical_data_details.\")\n"
   ]
  },
  {
   "cell_type": "markdown",
   "metadata": {},
   "source": [
    "### Load Analytics price target"
   ]
  },
  {
   "cell_type": "code",
   "execution_count": 20,
   "metadata": {},
   "outputs": [
    {
     "name": "stdout",
     "output_type": "stream",
     "text": [
      "Loaded 70 rows into financial_data:analyst_price_target.\n"
     ]
    }
   ],
   "source": [
    "# Define your parameters\n",
    "project_id = \"jaber-financial\"\n",
    "dataset_id = \"financial_data\"\n",
    "bucket_name = \"analyst_price_target\"\n",
    "analyst_dir_prefix = \"data/\"\n",
    "\n",
    "def list_parquet_files(bucket_name, prefix):\n",
    "    \"\"\"List all parquet files in a specific GCS bucket and prefix.\"\"\"\n",
    "    bucket = gcs_client.bucket(bucket_name)\n",
    "    blobs = bucket.list_blobs(prefix=prefix)\n",
    "    return [blob.name for blob in blobs if blob.name.endswith('.parquet')]\n",
    "\n",
    "# Load all files from data/history/ directory into a single table named 'companies_details'\n",
    "analyst_details_files = list_parquet_files(bucket_name, analyst_dir_prefix)\n",
    "\n",
    "analyst_table_ref = bq_client.dataset(dataset_id).table(\"analyst_price_target\")\n",
    "analyst_job_config = bigquery.LoadJobConfig(\n",
    "    source_format=bigquery.SourceFormat.PARQUET,  # Parquet file format\n",
    "    autodetect=True\n",
    ")\n",
    "\n",
    "# Start the load job for history files\n",
    "load_job = bq_client.load_table_from_uri(\n",
    "    [f\"gs://{bucket_name}/{file}\" for file in analyst_details_files],\n",
    "    analyst_table_ref,\n",
    "    job_config=analyst_job_config\n",
    ")\n",
    "\n",
    "# Wait for the job to complete\n",
    "load_job.result()\n",
    "\n",
    "# Check the result\n",
    "analyst_details_table = bq_client.get_table(analyst_table_ref)\n",
    "print(f\"Loaded {analyst_details_table.num_rows} rows into {dataset_id}:analyst_price_target.\")\n"
   ]
  },
  {
   "cell_type": "markdown",
   "metadata": {},
   "source": [
    "### Load Market Cap"
   ]
  },
  {
   "cell_type": "code",
   "execution_count": 21,
   "metadata": {},
   "outputs": [
    {
     "name": "stdout",
     "output_type": "stream",
     "text": [
      "Loaded 70 rows into financial_data:marketcap_details.\n"
     ]
    }
   ],
   "source": [
    "# Define your parameters\n",
    "project_id = \"jaber-financial\"\n",
    "dataset_id = \"financial_data\"\n",
    "bucket_name = \"marketcap_details\"\n",
    "market_dir_prefix = \"data/\"\n",
    "\n",
    "def list_parquet_files(bucket_name, prefix):\n",
    "    \"\"\"List all parquet files in a specific GCS bucket and prefix.\"\"\"\n",
    "    bucket = gcs_client.bucket(bucket_name)\n",
    "    blobs = bucket.list_blobs(prefix=prefix)\n",
    "    return [blob.name for blob in blobs if blob.name.endswith('.parquet')]\n",
    "\n",
    "# Load all files from data/history/ directory into a single table named 'companies_details'\n",
    "marketcap_details_files = list_parquet_files(bucket_name, market_dir_prefix)\n",
    "\n",
    "market_table_ref = bq_client.dataset(dataset_id).table(\"marketcap_details\")\n",
    "market_job_config = bigquery.LoadJobConfig(\n",
    "    source_format=bigquery.SourceFormat.PARQUET,  # Parquet file format\n",
    "    autodetect=True\n",
    ")\n",
    "\n",
    "# Start the load job for history files\n",
    "load_job = bq_client.load_table_from_uri(\n",
    "    [f\"gs://{bucket_name}/{file}\" for file in marketcap_details_files],\n",
    "    market_table_ref,\n",
    "    job_config=market_job_config\n",
    ")\n",
    "\n",
    "# Wait for the job to complete\n",
    "load_job.result()\n",
    "\n",
    "# Check the result\n",
    "market_details_table = bq_client.get_table(market_table_ref)\n",
    "print(f\"Loaded {market_details_table.num_rows} rows into {dataset_id}:marketcap_details.\")\n"
   ]
  }
 ],
 "metadata": {
  "kernelspec": {
   "display_name": "env",
   "language": "python",
   "name": "python3"
  },
  "language_info": {
   "codemirror_mode": {
    "name": "ipython",
    "version": 3
   },
   "file_extension": ".py",
   "mimetype": "text/x-python",
   "name": "python",
   "nbconvert_exporter": "python",
   "pygments_lexer": "ipython3",
   "version": "3.12.1"
  }
 },
 "nbformat": 4,
 "nbformat_minor": 2
}
