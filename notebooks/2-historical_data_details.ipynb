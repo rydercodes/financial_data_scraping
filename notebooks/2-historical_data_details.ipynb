{
 "cells": [
  {
   "cell_type": "code",
   "execution_count": 1,
   "metadata": {},
   "outputs": [],
   "source": [
    "from google.cloud import storage\n",
    "import pandas as pd\n",
    "import io\n",
    "import yfinance as yf\n",
    "from datetime import datetime\n",
    "import os\n",
    "import time\n",
    "import numpy as np"
   ]
  },
  {
   "cell_type": "code",
   "execution_count": 2,
   "metadata": {},
   "outputs": [],
   "source": [
    "from google.cloud import storage\n",
    "from google.oauth2 import service_account"
   ]
  },
  {
   "cell_type": "code",
   "execution_count": 3,
   "metadata": {},
   "outputs": [
    {
     "name": "stdout",
     "output_type": "stream",
     "text": [
      "GOOGLE_APPLICATION_CREDENTIALS: /workspaces/financial_data_scraping/jaber-financial-b20f23e23588.json\n"
     ]
    }
   ],
   "source": [
    "import os\n",
    "\n",
    "# Set the environment variable for the Google Cloud credentials\n",
    "os.environ['GOOGLE_APPLICATION_CREDENTIALS'] = '/workspaces/financial_data_scraping/jaber-financial-b20f23e23588.json'\n",
    "\n",
    "# Verify that it has been set correctly\n",
    "print(\"GOOGLE_APPLICATION_CREDENTIALS:\", os.getenv('GOOGLE_APPLICATION_CREDENTIALS'))\n"
   ]
  },
  {
   "cell_type": "code",
   "execution_count": 4,
   "metadata": {},
   "outputs": [
    {
     "name": "stdout",
     "output_type": "stream",
     "text": [
      "Bucket 'companies_details' exists: True\n"
     ]
    }
   ],
   "source": [
    "from google.cloud import storage\n",
    "\n",
    "def test_gcs_access(bucket_name):\n",
    "    storage_client = storage.Client()\n",
    "    bucket = storage_client.bucket(bucket_name)\n",
    "    print(f\"Bucket '{bucket_name}' exists: {bucket.exists()}\")\n",
    "\n",
    "# Replace 'your-bucket-name' with your actual bucket name\n",
    "test_gcs_access('companies_details')\n"
   ]
  },
  {
   "cell_type": "code",
   "execution_count": 5,
   "metadata": {},
   "outputs": [],
   "source": [
    "# Define Google Cloud Storage bucket name and file path\n",
    "bucket_name = 'companies_details'\n",
    "source_blob_name = 'data/companies_details.parquet'\n",
    "\n",
    "def download_from_gcs(bucket_name, source_blob_name):\n",
    "    storage_client = storage.Client()\n",
    "    bucket = storage_client.bucket(bucket_name)\n",
    "    blob = bucket.blob(source_blob_name)\n",
    "    file_content = blob.download_as_bytes()\n",
    "    return file_content\n",
    "\n",
    "# Download the file content from GCS\n",
    "file_content = download_from_gcs(bucket_name, source_blob_name)\n",
    "\n",
    "# Load the content into a pandas DataFrame\n",
    "all_companies = pd.read_parquet(io.BytesIO(file_content))\n",
    "\n"
   ]
  },
  {
   "cell_type": "code",
   "execution_count": 6,
   "metadata": {},
   "outputs": [
    {
     "name": "stderr",
     "output_type": "stream",
     "text": [
      "[*********************100%***********************]  1 of 1 completed\n"
     ]
    },
    {
     "name": "stdout",
     "output_type": "stream",
     "text": [
      "Data saved locally to /workspaces/financial_data_scraping/data/history/ANA.parquet.\n",
      "Data uploaded to data/history/ANA.parquet in bucket historical_data_details.\n",
      "Processed historical data for ANA\n"
     ]
    },
    {
     "name": "stderr",
     "output_type": "stream",
     "text": [
      "[*********************100%***********************]  1 of 1 completed\n"
     ]
    },
    {
     "name": "stdout",
     "output_type": "stream",
     "text": [
      "Data saved locally to /workspaces/financial_data_scraping/data/history/ACX.parquet.\n",
      "Data uploaded to data/history/ACX.parquet in bucket historical_data_details.\n",
      "Processed historical data for ACX\n"
     ]
    },
    {
     "name": "stderr",
     "output_type": "stream",
     "text": [
      "[*********************100%***********************]  1 of 1 completed\n"
     ]
    },
    {
     "name": "stdout",
     "output_type": "stream",
     "text": [
      "Data saved locally to /workspaces/financial_data_scraping/data/history/ACS.parquet.\n",
      "Data uploaded to data/history/ACS.parquet in bucket historical_data_details.\n",
      "Processed historical data for ACS\n"
     ]
    },
    {
     "name": "stderr",
     "output_type": "stream",
     "text": [
      "[*********************100%***********************]  1 of 1 completed\n"
     ]
    },
    {
     "name": "stdout",
     "output_type": "stream",
     "text": [
      "Data saved locally to /workspaces/financial_data_scraping/data/history/ADZ.parquet.\n",
      "Data uploaded to data/history/ADZ.parquet in bucket historical_data_details.\n",
      "Processed historical data for ADZ\n"
     ]
    },
    {
     "name": "stderr",
     "output_type": "stream",
     "text": [
      "[*********************100%***********************]  1 of 1 completed\n"
     ]
    },
    {
     "name": "stdout",
     "output_type": "stream",
     "text": [
      "Data saved locally to /workspaces/financial_data_scraping/data/history/AEDAS.parquet.\n",
      "Data uploaded to data/history/AEDAS.parquet in bucket historical_data_details.\n",
      "Processed historical data for AEDAS\n"
     ]
    },
    {
     "name": "stderr",
     "output_type": "stream",
     "text": [
      "[*********************100%***********************]  1 of 1 completed\n"
     ]
    },
    {
     "name": "stdout",
     "output_type": "stream",
     "text": [
      "Data saved locally to /workspaces/financial_data_scraping/data/history/AENA.parquet.\n",
      "Data uploaded to data/history/AENA.parquet in bucket historical_data_details.\n",
      "Processed historical data for AENA\n"
     ]
    },
    {
     "name": "stderr",
     "output_type": "stream",
     "text": [
      "[*********************100%***********************]  1 of 1 completed\n"
     ]
    },
    {
     "name": "stdout",
     "output_type": "stream",
     "text": [
      "Data saved locally to /workspaces/financial_data_scraping/data/history/AIR.parquet.\n",
      "Data uploaded to data/history/AIR.parquet in bucket historical_data_details.\n",
      "Processed historical data for AIR\n"
     ]
    },
    {
     "name": "stderr",
     "output_type": "stream",
     "text": [
      "[*********************100%***********************]  1 of 1 completed\n"
     ]
    },
    {
     "name": "stdout",
     "output_type": "stream",
     "text": [
      "Data saved locally to /workspaces/financial_data_scraping/data/history/AI.parquet.\n",
      "Data uploaded to data/history/AI.parquet in bucket historical_data_details.\n",
      "Processed historical data for AI\n"
     ]
    },
    {
     "name": "stderr",
     "output_type": "stream",
     "text": [
      "[*********************100%***********************]  1 of 1 completed\n"
     ]
    },
    {
     "name": "stdout",
     "output_type": "stream",
     "text": [
      "Data saved locally to /workspaces/financial_data_scraping/data/history/ALNT.parquet.\n",
      "Data uploaded to data/history/ALNT.parquet in bucket historical_data_details.\n",
      "Processed historical data for ALNT\n"
     ]
    },
    {
     "name": "stderr",
     "output_type": "stream",
     "text": [
      "[*********************100%***********************]  1 of 1 completed\n"
     ]
    },
    {
     "name": "stdout",
     "output_type": "stream",
     "text": [
      "Data saved locally to /workspaces/financial_data_scraping/data/history/ALM.parquet.\n",
      "Data uploaded to data/history/ALM.parquet in bucket historical_data_details.\n",
      "Processed historical data for ALM\n"
     ]
    },
    {
     "name": "stderr",
     "output_type": "stream",
     "text": [
      "[*********************100%***********************]  1 of 1 completed\n"
     ]
    },
    {
     "name": "stdout",
     "output_type": "stream",
     "text": [
      "Data saved locally to /workspaces/financial_data_scraping/data/history/AMS.parquet.\n",
      "Data uploaded to data/history/AMS.parquet in bucket historical_data_details.\n",
      "Processed historical data for AMS\n"
     ]
    },
    {
     "name": "stderr",
     "output_type": "stream",
     "text": [
      "[*********************100%***********************]  1 of 1 completed\n"
     ]
    },
    {
     "name": "stdout",
     "output_type": "stream",
     "text": [
      "Data saved locally to /workspaces/financial_data_scraping/data/history/AMP.parquet.\n",
      "Data uploaded to data/history/AMP.parquet in bucket historical_data_details.\n",
      "Processed historical data for AMP\n"
     ]
    },
    {
     "name": "stderr",
     "output_type": "stream",
     "text": [
      "[*********************100%***********************]  1 of 1 completed\n"
     ]
    },
    {
     "name": "stdout",
     "output_type": "stream",
     "text": [
      "Data saved locally to /workspaces/financial_data_scraping/data/history/EAT.parquet.\n",
      "Data uploaded to data/history/EAT.parquet in bucket historical_data_details.\n",
      "Processed historical data for EAT\n"
     ]
    },
    {
     "name": "stderr",
     "output_type": "stream",
     "text": [
      "[*********************100%***********************]  1 of 1 completed\n"
     ]
    },
    {
     "name": "stdout",
     "output_type": "stream",
     "text": [
      "Data saved locally to /workspaces/financial_data_scraping/data/history/APAM.parquet.\n",
      "Data uploaded to data/history/APAM.parquet in bucket historical_data_details.\n",
      "Processed historical data for APAM\n"
     ]
    },
    {
     "name": "stderr",
     "output_type": "stream",
     "text": [
      "[*********************100%***********************]  1 of 1 completed\n"
     ]
    },
    {
     "name": "stdout",
     "output_type": "stream",
     "text": [
      "Data saved locally to /workspaces/financial_data_scraping/data/history/APPS.parquet.\n",
      "Data uploaded to data/history/APPS.parquet in bucket historical_data_details.\n",
      "Processed historical data for APPS\n"
     ]
    },
    {
     "name": "stderr",
     "output_type": "stream",
     "text": [
      "[*********************100%***********************]  1 of 1 completed\n"
     ]
    },
    {
     "name": "stdout",
     "output_type": "stream",
     "text": [
      "Data saved locally to /workspaces/financial_data_scraping/data/history/MTS.parquet.\n",
      "Data uploaded to data/history/MTS.parquet in bucket historical_data_details.\n",
      "Processed historical data for MTS\n"
     ]
    },
    {
     "name": "stderr",
     "output_type": "stream",
     "text": [
      "[*********************100%***********************]  1 of 1 completed\n"
     ]
    },
    {
     "name": "stdout",
     "output_type": "stream",
     "text": [
      "Data saved locally to /workspaces/financial_data_scraping/data/history/ARM.parquet.\n",
      "Data uploaded to data/history/ARM.parquet in bucket historical_data_details.\n",
      "Processed historical data for ARM\n"
     ]
    },
    {
     "name": "stderr",
     "output_type": "stream",
     "text": [
      "[*********************100%***********************]  1 of 1 completed\n"
     ]
    },
    {
     "name": "stdout",
     "output_type": "stream",
     "text": [
      "Data saved locally to /workspaces/financial_data_scraping/data/history/A3M.parquet.\n",
      "Data uploaded to data/history/A3M.parquet in bucket historical_data_details.\n",
      "Processed historical data for A3M\n"
     ]
    },
    {
     "name": "stderr",
     "output_type": "stream",
     "text": [
      "[*********************100%***********************]  1 of 1 completed\n"
     ]
    },
    {
     "name": "stdout",
     "output_type": "stream",
     "text": [
      "Data saved locally to /workspaces/financial_data_scraping/data/history/ATRY.parquet.\n",
      "Data uploaded to data/history/ATRY.parquet in bucket historical_data_details.\n",
      "Processed historical data for ATRY\n"
     ]
    },
    {
     "name": "stderr",
     "output_type": "stream",
     "text": [
      "[*********************100%***********************]  1 of 1 completed\n"
     ]
    },
    {
     "name": "stdout",
     "output_type": "stream",
     "text": [
      "Data saved locally to /workspaces/financial_data_scraping/data/history/ADX.parquet.\n",
      "Data uploaded to data/history/ADX.parquet in bucket historical_data_details.\n",
      "Processed historical data for ADX\n"
     ]
    },
    {
     "name": "stderr",
     "output_type": "stream",
     "text": [
      "[*********************100%***********************]  1 of 1 completed\n"
     ]
    },
    {
     "name": "stdout",
     "output_type": "stream",
     "text": [
      "Data saved locally to /workspaces/financial_data_scraping/data/history/AZK.parquet.\n",
      "Data uploaded to data/history/AZK.parquet in bucket historical_data_details.\n",
      "Processed historical data for AZK\n"
     ]
    },
    {
     "name": "stderr",
     "output_type": "stream",
     "text": [
      "[*********************100%***********************]  1 of 1 completed\n"
     ]
    },
    {
     "name": "stdout",
     "output_type": "stream",
     "text": [
      "Data saved locally to /workspaces/financial_data_scraping/data/history/BBVA.parquet.\n",
      "Data uploaded to data/history/BBVA.parquet in bucket historical_data_details.\n",
      "Processed historical data for BBVA\n"
     ]
    },
    {
     "name": "stderr",
     "output_type": "stream",
     "text": [
      "[*********************100%***********************]  1 of 1 completed\n"
     ]
    },
    {
     "name": "stdout",
     "output_type": "stream",
     "text": [
      "Data saved locally to /workspaces/financial_data_scraping/data/history/SAB.parquet.\n",
      "Data uploaded to data/history/SAB.parquet in bucket historical_data_details.\n",
      "Processed historical data for SAB\n"
     ]
    },
    {
     "name": "stderr",
     "output_type": "stream",
     "text": [
      "[*********************100%***********************]  1 of 1 completed\n"
     ]
    },
    {
     "name": "stdout",
     "output_type": "stream",
     "text": [
      "Data saved locally to /workspaces/financial_data_scraping/data/history/SAN.parquet.\n",
      "Data uploaded to data/history/SAN.parquet in bucket historical_data_details.\n",
      "Processed historical data for SAN\n"
     ]
    },
    {
     "name": "stderr",
     "output_type": "stream",
     "text": [
      "[*********************100%***********************]  1 of 1 completed\n"
     ]
    },
    {
     "name": "stdout",
     "output_type": "stream",
     "text": [
      "Data saved locally to /workspaces/financial_data_scraping/data/history/BKT.parquet.\n",
      "Data uploaded to data/history/BKT.parquet in bucket historical_data_details.\n",
      "Processed historical data for BKT\n"
     ]
    },
    {
     "name": "stderr",
     "output_type": "stream",
     "text": [
      "[*********************100%***********************]  1 of 1 completed\n"
     ]
    },
    {
     "name": "stdout",
     "output_type": "stream",
     "text": [
      "Data saved locally to /workspaces/financial_data_scraping/data/history/BKY.parquet.\n",
      "Data uploaded to data/history/BKY.parquet in bucket historical_data_details.\n",
      "Processed historical data for BKY\n"
     ]
    },
    {
     "name": "stderr",
     "output_type": "stream",
     "text": [
      "[*********************100%***********************]  1 of 1 completed\n"
     ]
    },
    {
     "name": "stdout",
     "output_type": "stream",
     "text": [
      "Data saved locally to /workspaces/financial_data_scraping/data/history/RIO.parquet.\n",
      "Data uploaded to data/history/RIO.parquet in bucket historical_data_details.\n",
      "Processed historical data for RIO\n"
     ]
    },
    {
     "name": "stderr",
     "output_type": "stream",
     "text": [
      "[*********************100%***********************]  1 of 1 completed\n"
     ]
    },
    {
     "name": "stdout",
     "output_type": "stream",
     "text": [
      "Data saved locally to /workspaces/financial_data_scraping/data/history/BAIN.parquet.\n",
      "Data uploaded to data/history/BAIN.parquet in bucket historical_data_details.\n",
      "Processed historical data for BAIN\n"
     ]
    },
    {
     "name": "stderr",
     "output_type": "stream",
     "text": [
      "[*********************100%***********************]  1 of 1 completed\n"
     ]
    },
    {
     "name": "stdout",
     "output_type": "stream",
     "text": [
      "Data saved locally to /workspaces/financial_data_scraping/data/history/CABK.parquet.\n",
      "Data uploaded to data/history/CABK.parquet in bucket historical_data_details.\n",
      "Processed historical data for CABK\n"
     ]
    },
    {
     "name": "stderr",
     "output_type": "stream",
     "text": [
      "[*********************100%***********************]  1 of 1 completed\n"
     ]
    },
    {
     "name": "stdout",
     "output_type": "stream",
     "text": [
      "Data saved locally to /workspaces/financial_data_scraping/data/history/CAM.parquet.\n",
      "Data uploaded to data/history/CAM.parquet in bucket historical_data_details.\n",
      "Processed historical data for CAM\n"
     ]
    },
    {
     "name": "stderr",
     "output_type": "stream",
     "text": [
      "[*********************100%***********************]  1 of 1 completed\n"
     ]
    },
    {
     "name": "stdout",
     "output_type": "stream",
     "text": [
      "Data saved locally to /workspaces/financial_data_scraping/data/history/CASH.parquet.\n",
      "Data uploaded to data/history/CASH.parquet in bucket historical_data_details.\n",
      "Processed historical data for CASH\n"
     ]
    },
    {
     "name": "stderr",
     "output_type": "stream",
     "text": [
      "[*********************100%***********************]  1 of 1 completed\n"
     ]
    },
    {
     "name": "stdout",
     "output_type": "stream",
     "text": [
      "Data saved locally to /workspaces/financial_data_scraping/data/history/CLNX.parquet.\n",
      "Data uploaded to data/history/CLNX.parquet in bucket historical_data_details.\n",
      "Processed historical data for CLNX\n"
     ]
    },
    {
     "name": "stderr",
     "output_type": "stream",
     "text": [
      "[*********************100%***********************]  1 of 1 completed\n"
     ]
    },
    {
     "name": "stdout",
     "output_type": "stream",
     "text": [
      "Data saved locally to /workspaces/financial_data_scraping/data/history/LOG.parquet.\n",
      "Data uploaded to data/history/LOG.parquet in bucket historical_data_details.\n",
      "Processed historical data for LOG\n"
     ]
    },
    {
     "name": "stderr",
     "output_type": "stream",
     "text": [
      "[*********************100%***********************]  1 of 1 completed\n"
     ]
    },
    {
     "name": "stdout",
     "output_type": "stream",
     "text": [
      "Data saved locally to /workspaces/financial_data_scraping/data/history/CEV.parquet.\n",
      "Data uploaded to data/history/CEV.parquet in bucket historical_data_details.\n",
      "Processed historical data for CEV\n"
     ]
    },
    {
     "name": "stderr",
     "output_type": "stream",
     "text": [
      "[*********************100%***********************]  1 of 1 completed\n"
     ]
    },
    {
     "name": "stdout",
     "output_type": "stream",
     "text": [
      "Data saved locally to /workspaces/financial_data_scraping/data/history/CLEO.parquet.\n",
      "Data uploaded to data/history/CLEO.parquet in bucket historical_data_details.\n",
      "Processed historical data for CLEO\n"
     ]
    },
    {
     "name": "stderr",
     "output_type": "stream",
     "text": [
      "[*********************100%***********************]  1 of 1 completed\n"
     ]
    },
    {
     "name": "stdout",
     "output_type": "stream",
     "text": [
      "Data saved locally to /workspaces/financial_data_scraping/data/history/CIE.parquet.\n",
      "Data uploaded to data/history/CIE.parquet in bucket historical_data_details.\n",
      "Processed historical data for CIE\n"
     ]
    },
    {
     "name": "stderr",
     "output_type": "stream",
     "text": [
      "[*********************100%***********************]  1 of 1 completed\n"
     ]
    },
    {
     "name": "stdout",
     "output_type": "stream",
     "text": [
      "Data saved locally to /workspaces/financial_data_scraping/data/history/CBAV.parquet.\n",
      "Data uploaded to data/history/CBAV.parquet in bucket historical_data_details.\n",
      "Processed historical data for CBAV\n"
     ]
    },
    {
     "name": "stderr",
     "output_type": "stream",
     "text": [
      "[*********************100%***********************]  1 of 1 completed\n"
     ]
    },
    {
     "name": "stdout",
     "output_type": "stream",
     "text": [
      "Data saved locally to /workspaces/financial_data_scraping/data/history/CCEP.parquet.\n",
      "Data uploaded to data/history/CCEP.parquet in bucket historical_data_details.\n",
      "Processed historical data for CCEP\n"
     ]
    },
    {
     "name": "stderr",
     "output_type": "stream",
     "text": [
      "[*********************100%***********************]  1 of 1 completed\n"
     ]
    },
    {
     "name": "stdout",
     "output_type": "stream",
     "text": [
      "Data saved locally to /workspaces/financial_data_scraping/data/history/CAF.parquet.\n",
      "Data uploaded to data/history/CAF.parquet in bucket historical_data_details.\n",
      "Processed historical data for CAF\n"
     ]
    },
    {
     "name": "stderr",
     "output_type": "stream",
     "text": [
      "[*********************100%***********************]  1 of 1 completed\n"
     ]
    },
    {
     "name": "stdout",
     "output_type": "stream",
     "text": [
      "Data saved locally to /workspaces/financial_data_scraping/data/history/ANE.parquet.\n",
      "Data uploaded to data/history/ANE.parquet in bucket historical_data_details.\n",
      "Processed historical data for ANE\n"
     ]
    },
    {
     "name": "stderr",
     "output_type": "stream",
     "text": [
      "[*********************100%***********************]  1 of 1 completed\n"
     ]
    },
    {
     "name": "stdout",
     "output_type": "stream",
     "text": [
      "Data saved locally to /workspaces/financial_data_scraping/data/history/ALB.parquet.\n",
      "Data uploaded to data/history/ALB.parquet in bucket historical_data_details.\n",
      "Processed historical data for ALB\n"
     ]
    },
    {
     "name": "stderr",
     "output_type": "stream",
     "text": [
      "[*********************100%***********************]  1 of 1 completed\n"
     ]
    },
    {
     "name": "stdout",
     "output_type": "stream",
     "text": [
      "Data saved locally to /workspaces/financial_data_scraping/data/history/OLE.parquet.\n",
      "Data uploaded to data/history/OLE.parquet in bucket historical_data_details.\n",
      "Processed historical data for OLE\n"
     ]
    },
    {
     "name": "stderr",
     "output_type": "stream",
     "text": [
      "[*********************100%***********************]  1 of 1 completed\n"
     ]
    },
    {
     "name": "stdout",
     "output_type": "stream",
     "text": [
      "Data saved locally to /workspaces/financial_data_scraping/data/history/DESA.parquet.\n",
      "Data uploaded to data/history/DESA.parquet in bucket historical_data_details.\n",
      "Processed historical data for DESA\n"
     ]
    },
    {
     "name": "stderr",
     "output_type": "stream",
     "text": [
      "[*********************100%***********************]  1 of 1 completed\n"
     ]
    },
    {
     "name": "stdout",
     "output_type": "stream",
     "text": [
      "Data saved locally to /workspaces/financial_data_scraping/data/history/DIA.parquet.\n",
      "Data uploaded to data/history/DIA.parquet in bucket historical_data_details.\n",
      "Processed historical data for DIA\n"
     ]
    },
    {
     "name": "stderr",
     "output_type": "stream",
     "text": [
      "[*********************100%***********************]  1 of 1 completed\n"
     ]
    },
    {
     "name": "stdout",
     "output_type": "stream",
     "text": [
      "Data saved locally to /workspaces/financial_data_scraping/data/history/MDF.parquet.\n",
      "Data uploaded to data/history/MDF.parquet in bucket historical_data_details.\n",
      "Processed historical data for MDF\n"
     ]
    },
    {
     "name": "stderr",
     "output_type": "stream",
     "text": [
      "[*********************100%***********************]  1 of 1 completed\n"
     ]
    },
    {
     "name": "stdout",
     "output_type": "stream",
     "text": [
      "Data saved locally to /workspaces/financial_data_scraping/data/history/EBRO.parquet.\n",
      "Data uploaded to data/history/EBRO.parquet in bucket historical_data_details.\n",
      "Processed historical data for EBRO\n"
     ]
    },
    {
     "name": "stderr",
     "output_type": "stream",
     "text": [
      "[*********************100%***********************]  1 of 1 completed\n"
     ]
    },
    {
     "name": "stdout",
     "output_type": "stream",
     "text": [
      "Data saved locally to /workspaces/financial_data_scraping/data/history/ENER.parquet.\n",
      "Data uploaded to data/history/ENER.parquet in bucket historical_data_details.\n",
      "Processed historical data for ENER\n"
     ]
    },
    {
     "name": "stderr",
     "output_type": "stream",
     "text": [
      "[*********************100%***********************]  1 of 1 completed\n"
     ]
    },
    {
     "name": "stdout",
     "output_type": "stream",
     "text": [
      "Data saved locally to /workspaces/financial_data_scraping/data/history/EDR.parquet.\n",
      "Data uploaded to data/history/EDR.parquet in bucket historical_data_details.\n",
      "Processed historical data for EDR\n"
     ]
    },
    {
     "name": "stderr",
     "output_type": "stream",
     "text": [
      "[*********************100%***********************]  1 of 1 completed\n"
     ]
    },
    {
     "name": "stdout",
     "output_type": "stream",
     "text": [
      "Data saved locally to /workspaces/financial_data_scraping/data/history/ENO.parquet.\n",
      "Data uploaded to data/history/ENO.parquet in bucket historical_data_details.\n",
      "Processed historical data for ENO\n"
     ]
    },
    {
     "name": "stderr",
     "output_type": "stream",
     "text": [
      "[*********************100%***********************]  1 of 1 completed\n"
     ]
    },
    {
     "name": "stdout",
     "output_type": "stream",
     "text": [
      "Data saved locally to /workspaces/financial_data_scraping/data/history/ENG.parquet.\n",
      "Data uploaded to data/history/ENG.parquet in bucket historical_data_details.\n",
      "Processed historical data for ENG\n"
     ]
    },
    {
     "name": "stderr",
     "output_type": "stream",
     "text": [
      "[*********************100%***********************]  1 of 1 completed\n"
     ]
    },
    {
     "name": "stdout",
     "output_type": "stream",
     "text": [
      "Data saved locally to /workspaces/financial_data_scraping/data/history/PUIG.parquet.\n",
      "Data uploaded to data/history/PUIG.parquet in bucket historical_data_details.\n",
      "Processed historical data for PUIG\n"
     ]
    },
    {
     "name": "stderr",
     "output_type": "stream",
     "text": [
      "[*********************100%***********************]  1 of 1 completed\n"
     ]
    },
    {
     "name": "stdout",
     "output_type": "stream",
     "text": [
      "Data saved locally to /workspaces/financial_data_scraping/data/history/RLIA.parquet.\n",
      "Data uploaded to data/history/RLIA.parquet in bucket historical_data_details.\n",
      "Processed historical data for RLIA\n"
     ]
    },
    {
     "name": "stderr",
     "output_type": "stream",
     "text": [
      "[*********************100%***********************]  1 of 1 completed\n"
     ]
    },
    {
     "name": "stdout",
     "output_type": "stream",
     "text": [
      "Data saved locally to /workspaces/financial_data_scraping/data/history/RED.parquet.\n",
      "Data uploaded to data/history/RED.parquet in bucket historical_data_details.\n",
      "Processed historical data for RED\n"
     ]
    },
    {
     "name": "stderr",
     "output_type": "stream",
     "text": [
      "[*********************100%***********************]  1 of 1 completed\n"
     ]
    },
    {
     "name": "stdout",
     "output_type": "stream",
     "text": [
      "Data saved locally to /workspaces/financial_data_scraping/data/history/R4.parquet.\n",
      "Data uploaded to data/history/R4.parquet in bucket historical_data_details.\n",
      "Processed historical data for R4\n"
     ]
    },
    {
     "name": "stderr",
     "output_type": "stream",
     "text": [
      "[*********************100%***********************]  1 of 1 completed\n"
     ]
    },
    {
     "name": "stdout",
     "output_type": "stream",
     "text": [
      "Data saved locally to /workspaces/financial_data_scraping/data/history/REN.parquet.\n",
      "Data uploaded to data/history/REN.parquet in bucket historical_data_details.\n",
      "Processed historical data for REN\n"
     ]
    },
    {
     "name": "stderr",
     "output_type": "stream",
     "text": [
      "[*********************100%***********************]  1 of 1 completed\n"
     ]
    },
    {
     "name": "stdout",
     "output_type": "stream",
     "text": [
      "Data saved locally to /workspaces/financial_data_scraping/data/history/REP.parquet.\n",
      "Data uploaded to data/history/REP.parquet in bucket historical_data_details.\n",
      "Processed historical data for REP\n"
     ]
    },
    {
     "name": "stderr",
     "output_type": "stream",
     "text": [
      "[*********************100%***********************]  1 of 1 completed\n"
     ]
    },
    {
     "name": "stdout",
     "output_type": "stream",
     "text": [
      "Data saved locally to /workspaces/financial_data_scraping/data/history/SCYR.parquet.\n",
      "Data uploaded to data/history/SCYR.parquet in bucket historical_data_details.\n",
      "Processed historical data for SCYR\n"
     ]
    },
    {
     "name": "stderr",
     "output_type": "stream",
     "text": [
      "[*********************100%***********************]  1 of 1 completed\n"
     ]
    },
    {
     "name": "stdout",
     "output_type": "stream",
     "text": [
      "Data saved locally to /workspaces/financial_data_scraping/data/history/SLR.parquet.\n",
      "Data uploaded to data/history/SLR.parquet in bucket historical_data_details.\n",
      "Processed historical data for SLR\n"
     ]
    },
    {
     "name": "stderr",
     "output_type": "stream",
     "text": [
      "[*********************100%***********************]  1 of 1 completed\n"
     ]
    },
    {
     "name": "stdout",
     "output_type": "stream",
     "text": [
      "Data saved locally to /workspaces/financial_data_scraping/data/history/SOL.parquet.\n",
      "Data uploaded to data/history/SOL.parquet in bucket historical_data_details.\n",
      "Processed historical data for SOL\n"
     ]
    },
    {
     "name": "stderr",
     "output_type": "stream",
     "text": [
      "[*********************100%***********************]  1 of 1 completed\n"
     ]
    },
    {
     "name": "stdout",
     "output_type": "stream",
     "text": [
      "Data saved locally to /workspaces/financial_data_scraping/data/history/SQRL.parquet.\n",
      "Data uploaded to data/history/SQRL.parquet in bucket historical_data_details.\n",
      "Processed historical data for SQRL\n"
     ]
    },
    {
     "name": "stderr",
     "output_type": "stream",
     "text": [
      "[*********************100%***********************]  1 of 1 completed\n"
     ]
    },
    {
     "name": "stdout",
     "output_type": "stream",
     "text": [
      "Data saved locally to /workspaces/financial_data_scraping/data/history/TLGO.parquet.\n",
      "Data uploaded to data/history/TLGO.parquet in bucket historical_data_details.\n",
      "Processed historical data for TLGO\n"
     ]
    },
    {
     "name": "stderr",
     "output_type": "stream",
     "text": [
      "[*********************100%***********************]  1 of 1 completed\n"
     ]
    },
    {
     "name": "stdout",
     "output_type": "stream",
     "text": [
      "Data saved locally to /workspaces/financial_data_scraping/data/history/TRE.parquet.\n",
      "Data uploaded to data/history/TRE.parquet in bucket historical_data_details.\n",
      "Processed historical data for TRE\n"
     ]
    },
    {
     "name": "stderr",
     "output_type": "stream",
     "text": [
      "[*********************100%***********************]  1 of 1 completed\n"
     ]
    },
    {
     "name": "stdout",
     "output_type": "stream",
     "text": [
      "Data saved locally to /workspaces/financial_data_scraping/data/history/TEF.parquet.\n",
      "Data uploaded to data/history/TEF.parquet in bucket historical_data_details.\n",
      "Processed historical data for TEF\n"
     ]
    },
    {
     "name": "stderr",
     "output_type": "stream",
     "text": [
      "[*********************100%***********************]  1 of 1 completed\n"
     ]
    },
    {
     "name": "stdout",
     "output_type": "stream",
     "text": [
      "Data saved locally to /workspaces/financial_data_scraping/data/history/TUB.parquet.\n",
      "Data uploaded to data/history/TUB.parquet in bucket historical_data_details.\n",
      "Processed historical data for TUB\n"
     ]
    },
    {
     "name": "stderr",
     "output_type": "stream",
     "text": [
      "[*********************100%***********************]  1 of 1 completed\n"
     ]
    },
    {
     "name": "stdout",
     "output_type": "stream",
     "text": [
      "Data saved locally to /workspaces/financial_data_scraping/data/history/TRG.parquet.\n",
      "Data uploaded to data/history/TRG.parquet in bucket historical_data_details.\n",
      "Processed historical data for TRG\n"
     ]
    },
    {
     "name": "stderr",
     "output_type": "stream",
     "text": [
      "[*********************100%***********************]  1 of 1 completed\n"
     ]
    },
    {
     "name": "stdout",
     "output_type": "stream",
     "text": [
      "Data saved locally to /workspaces/financial_data_scraping/data/history/UNI.parquet.\n",
      "Data uploaded to data/history/UNI.parquet in bucket historical_data_details.\n",
      "Processed historical data for UNI\n"
     ]
    },
    {
     "name": "stderr",
     "output_type": "stream",
     "text": [
      "[*********************100%***********************]  1 of 1 completed\n"
     ]
    },
    {
     "name": "stdout",
     "output_type": "stream",
     "text": [
      "Data saved locally to /workspaces/financial_data_scraping/data/history/UBS.parquet.\n",
      "Data uploaded to data/history/UBS.parquet in bucket historical_data_details.\n",
      "Processed historical data for UBS\n"
     ]
    },
    {
     "name": "stderr",
     "output_type": "stream",
     "text": [
      "[*********************100%***********************]  1 of 1 completed\n"
     ]
    },
    {
     "name": "stdout",
     "output_type": "stream",
     "text": [
      "Data saved locally to /workspaces/financial_data_scraping/data/history/VID.parquet.\n",
      "Data uploaded to data/history/VID.parquet in bucket historical_data_details.\n",
      "Processed historical data for VID\n"
     ]
    },
    {
     "name": "stderr",
     "output_type": "stream",
     "text": [
      "[*********************100%***********************]  1 of 1 completed\n"
     ]
    },
    {
     "name": "stdout",
     "output_type": "stream",
     "text": [
      "Data saved locally to /workspaces/financial_data_scraping/data/history/VIS.parquet.\n",
      "Data uploaded to data/history/VIS.parquet in bucket historical_data_details.\n",
      "Processed historical data for VIS\n"
     ]
    },
    {
     "name": "stderr",
     "output_type": "stream",
     "text": [
      "[*********************100%***********************]  1 of 1 completed\n"
     ]
    },
    {
     "name": "stdout",
     "output_type": "stream",
     "text": [
      "Data saved locally to /workspaces/financial_data_scraping/data/history/VOC.parquet.\n",
      "Data uploaded to data/history/VOC.parquet in bucket historical_data_details.\n",
      "Processed historical data for VOC\n"
     ]
    }
   ],
   "source": [
    "# Function to fetch historical data\n",
    "def fetch_historical_data(ticker, exchange_suffix):\n",
    "    try:\n",
    "        ticker_with_suffix = ticker + exchange_suffix  # Add dynamic suffix to the ticker\n",
    "        data = yf.download(ticker_with_suffix, period=\"max\")\n",
    "        data = data.reset_index()  # Reset index to move date from index to column\n",
    "        return data\n",
    "    except Exception as e:\n",
    "        print(f\"Error downloading data for {ticker}: {e}\")\n",
    "        return pd.DataFrame()\n",
    "\n",
    "# Function to upload DataFrame to GCS\n",
    "def upload_to_gcs(bucket_name, df, destination_blob_name):\n",
    "    storage_client = storage.Client()\n",
    "    bucket = storage_client.bucket(bucket_name)\n",
    "    blob = bucket.blob(destination_blob_name)\n",
    "\n",
    "    # Convert DataFrame to a BytesIO buffer\n",
    "    buffer = io.BytesIO()\n",
    "    df.to_parquet(buffer, index=False)\n",
    "    buffer.seek(0)\n",
    "\n",
    "    # Upload the buffer to GCS\n",
    "    blob.upload_from_file(buffer, content_type='application/octet-stream')\n",
    "    print(f\"Data uploaded to {destination_blob_name} in bucket {bucket_name}.\")\n",
    "\n",
    "# Function to save DataFrame locally\n",
    "def save_locally(df, local_path):\n",
    "    df.to_parquet(local_path, index=False)\n",
    "    print(f\"Data saved locally to {local_path}.\")\n",
    "\n",
    "# Define bucket name and URL pattern\n",
    "bucket_name = 'historical_data_details'\n",
    "scraping_url = \"https://finance.yahoo.com/quote/{ticker}/history/\"  # Fixed URL pattern\n",
    "scraping_timestamp = datetime.now().isoformat()  # Current timestamp\n",
    "local_data_path = '/workspaces/financial_data_scraping/data/history/'\n",
    "\n",
    "# Ensure the local directory exists\n",
    "if not os.path.exists(local_data_path):\n",
    "    os.makedirs(local_data_path)\n",
    "\n",
    "# Loop through the 'Ticker' column in all_companies DataFrame\n",
    "for idx, row in all_companies.iterrows():\n",
    "    ticker = row['Ticker']\n",
    "    isin = row['ISIN']\n",
    "    exchange_suffix = row.get('Exchange_Suffix', '.MC')  # Get exchange suffix from the DataFrame or use default\n",
    "\n",
    "    # Fetch historical data for the current ticker\n",
    "    df = fetch_historical_data(ticker, exchange_suffix)\n",
    "\n",
    "    # If data is retrieved, add additional columns\n",
    "    if not df.empty:\n",
    "        # Add ISIN, exchange, and ticker columns\n",
    "        df['ISIN'] = isin\n",
    "        df['Exchange'] = exchange_suffix.strip('.')  # Remove leading dot if present\n",
    "        df['Ticker'] = ticker  # Save the ticker without the suffix\n",
    "\n",
    "        # Add URL and timestamp columns\n",
    "        df['scraping_url'] = scraping_url.format(ticker=ticker)\n",
    "        df['scraping_timestamp'] = scraping_timestamp\n",
    "\n",
    "        # Reorder columns to place 'Exchange', 'Ticker', 'ISIN' at the beginning\n",
    "        columns_order = ['Ticker', 'Exchange', 'ISIN'] + [col for col in df.columns if col not in ['Ticker', 'Exchange', 'ISIN', 'scraping_url', 'scraping_timestamp']] + ['scraping_url', 'scraping_timestamp']\n",
    "        df = df[columns_order]\n",
    "\n",
    "        # Define local and GCS destination paths\n",
    "        local_file_path = f\"{local_data_path}{ticker}.parquet\"\n",
    "        gcs_blob_name = f\"data/history/{ticker}.parquet\"\n",
    "\n",
    "        # Save DataFrame locally\n",
    "        save_locally(df, local_file_path)\n",
    "\n",
    "        # Upload DataFrame to GCS\n",
    "        upload_to_gcs(bucket_name, df, gcs_blob_name)\n",
    "\n",
    "        print(f\"Processed historical data for {ticker}\")\n",
    "\n",
    "    # Introduce random delay between API calls (1 to 3 seconds)\n",
    "    random_int = np.random.choice([1, 2, 3])\n",
    "    time.sleep(random_int)"
   ]
  }
 ],
 "metadata": {
  "kernelspec": {
   "display_name": "env",
   "language": "python",
   "name": "python3"
  },
  "language_info": {
   "codemirror_mode": {
    "name": "ipython",
    "version": 3
   },
   "file_extension": ".py",
   "mimetype": "text/x-python",
   "name": "python",
   "nbconvert_exporter": "python",
   "pygments_lexer": "ipython3",
   "version": "3.12.1"
  }
 },
 "nbformat": 4,
 "nbformat_minor": 2
}
